{
 "cells": [
  {
   "cell_type": "code",
   "execution_count": 2,
   "metadata": {
    "collapsed": false
   },
   "outputs": [
    {
     "data": {
      "text/html": [
       "'C:/Users/User'"
      ],
      "text/latex": [
       "'C:/Users/User'"
      ],
      "text/markdown": [
       "'C:/Users/User'"
      ],
      "text/plain": [
       "[1] \"C:/Users/User\""
      ]
     },
     "metadata": {},
     "output_type": "display_data"
    }
   ],
   "source": [
    "getwd()"
   ]
  },
  {
   "cell_type": "code",
   "execution_count": 5,
   "metadata": {
    "collapsed": false
   },
   "outputs": [],
   "source": [
    "setwd(\"C:/Users/User/Desktop/New folder (8)\")"
   ]
  },
  {
   "cell_type": "code",
   "execution_count": 6,
   "metadata": {
    "collapsed": true
   },
   "outputs": [],
   "source": [
    "parol=read.csv('parole.csv')"
   ]
  },
  {
   "cell_type": "code",
   "execution_count": 9,
   "metadata": {
    "collapsed": false
   },
   "outputs": [],
   "source": [
    "parol$male = as.factor(parol$male)\n",
    "parol$state = as.factor(parol$state)\n",
    "parol$crime = as.factor(parol$crime)"
   ]
  },
  {
   "cell_type": "code",
   "execution_count": 11,
   "metadata": {
    "collapsed": false
   },
   "outputs": [
    {
     "name": "stdout",
     "output_type": "stream",
     "text": [
      "'data.frame':\t675 obs. of  9 variables:\n",
      " $ male             : Factor w/ 2 levels \"0\",\"1\": 2 1 2 2 2 2 2 1 1 2 ...\n",
      " $ race             : int  1 1 2 1 2 2 1 1 1 2 ...\n",
      " $ age              : num  33.2 39.7 29.5 22.4 21.6 46.7 31 24.6 32.6 29.1 ...\n",
      " $ state            : Factor w/ 4 levels \"1\",\"2\",\"3\",\"4\": 1 1 1 1 1 1 1 1 1 1 ...\n",
      " $ time.served      : num  5.5 5.4 5.6 5.7 5.4 6 6 4.8 4.5 4.7 ...\n",
      " $ max.sentence     : int  18 12 12 18 12 18 18 12 13 12 ...\n",
      " $ multiple.offenses: int  0 0 0 0 0 0 0 0 0 0 ...\n",
      " $ crime            : Factor w/ 4 levels \"1\",\"2\",\"3\",\"4\": 4 3 3 1 1 4 3 1 3 2 ...\n",
      " $ violator         : int  0 0 0 0 0 0 0 0 0 0 ...\n"
     ]
    }
   ],
   "source": [
    "str(parol)"
   ]
  },
  {
   "cell_type": "code",
   "execution_count": 15,
   "metadata": {
    "collapsed": false
   },
   "outputs": [
    {
     "data": {
      "text/html": [
       "<table>\n",
       "<thead><tr><th scope=col>male</th><th scope=col>race</th><th scope=col>age</th><th scope=col>state</th><th scope=col>time.served</th><th scope=col>max.sentence</th><th scope=col>multiple.offenses</th><th scope=col>crime</th><th scope=col>violator</th></tr></thead>\n",
       "<tbody>\n",
       "\t<tr><td>1   </td><td>1   </td><td>33.2</td><td>1   </td><td>5.5 </td><td>18  </td><td>0   </td><td>4   </td><td>0   </td></tr>\n",
       "\t<tr><td>0   </td><td>1   </td><td>39.7</td><td>1   </td><td>5.4 </td><td>12  </td><td>0   </td><td>3   </td><td>0   </td></tr>\n",
       "\t<tr><td>1   </td><td>2   </td><td>29.5</td><td>1   </td><td>5.6 </td><td>12  </td><td>0   </td><td>3   </td><td>0   </td></tr>\n",
       "\t<tr><td>1   </td><td>1   </td><td>22.4</td><td>1   </td><td>5.7 </td><td>18  </td><td>0   </td><td>1   </td><td>0   </td></tr>\n",
       "\t<tr><td>1   </td><td>2   </td><td>21.6</td><td>1   </td><td>5.4 </td><td>12  </td><td>0   </td><td>1   </td><td>0   </td></tr>\n",
       "\t<tr><td>1   </td><td>2   </td><td>46.7</td><td>1   </td><td>6.0 </td><td>18  </td><td>0   </td><td>4   </td><td>0   </td></tr>\n",
       "\t<tr><td>1   </td><td>1   </td><td>31.0</td><td>1   </td><td>6.0 </td><td>18  </td><td>0   </td><td>3   </td><td>0   </td></tr>\n",
       "\t<tr><td>0   </td><td>1   </td><td>24.6</td><td>1   </td><td>4.8 </td><td>12  </td><td>0   </td><td>1   </td><td>0   </td></tr>\n",
       "\t<tr><td>0   </td><td>1   </td><td>32.6</td><td>1   </td><td>4.5 </td><td>13  </td><td>0   </td><td>3   </td><td>0   </td></tr>\n",
       "\t<tr><td>1   </td><td>2   </td><td>29.1</td><td>1   </td><td>4.7 </td><td>12  </td><td>0   </td><td>2   </td><td>0   </td></tr>\n",
       "\t<tr><td>0   </td><td>2   </td><td>28.4</td><td>1   </td><td>4.5 </td><td>12  </td><td>1   </td><td>1   </td><td>0   </td></tr>\n",
       "\t<tr><td>1   </td><td>1   </td><td>20.5</td><td>1   </td><td>5.9 </td><td>12  </td><td>0   </td><td>1   </td><td>0   </td></tr>\n",
       "\t<tr><td>1   </td><td>1   </td><td>30.1</td><td>1   </td><td>5.3 </td><td>16  </td><td>0   </td><td>3   </td><td>0   </td></tr>\n",
       "\t<tr><td>1   </td><td>1   </td><td>37.8</td><td>1   </td><td>5.3 </td><td> 8  </td><td>0   </td><td>3   </td><td>0   </td></tr>\n",
       "\t<tr><td>1   </td><td>1   </td><td>41.7</td><td>1   </td><td>5.5 </td><td> 8  </td><td>0   </td><td>3   </td><td>0   </td></tr>\n",
       "\t<tr><td>1   </td><td>2   </td><td>43.5</td><td>1   </td><td>5.2 </td><td> 8  </td><td>0   </td><td>1   </td><td>0   </td></tr>\n",
       "\t<tr><td>1   </td><td>1   </td><td>42.3</td><td>1   </td><td>4.8 </td><td>16  </td><td>0   </td><td>3   </td><td>0   </td></tr>\n",
       "\t<tr><td>1   </td><td>1   </td><td>21.3</td><td>1   </td><td>5.1 </td><td> 8  </td><td>0   </td><td>1   </td><td>0   </td></tr>\n",
       "\t<tr><td>1   </td><td>2   </td><td>24.5</td><td>1   </td><td>6.0 </td><td>16  </td><td>0   </td><td>3   </td><td>0   </td></tr>\n",
       "\t<tr><td>1   </td><td>1   </td><td>42.3</td><td>1   </td><td>5.8 </td><td>16  </td><td>0   </td><td>1   </td><td>0   </td></tr>\n",
       "\t<tr><td>1   </td><td>1   </td><td>31.6</td><td>1   </td><td>4.9 </td><td> 8  </td><td>0   </td><td>1   </td><td>0   </td></tr>\n",
       "\t<tr><td>1   </td><td>2   </td><td>35.4</td><td>1   </td><td>5.3 </td><td> 8  </td><td>0   </td><td>3   </td><td>0   </td></tr>\n",
       "\t<tr><td>1   </td><td>1   </td><td>41.9</td><td>1   </td><td>5.1 </td><td>16  </td><td>0   </td><td>3   </td><td>0   </td></tr>\n",
       "\t<tr><td>1   </td><td>1   </td><td>38.9</td><td>1   </td><td>5.2 </td><td>16  </td><td>0   </td><td>3   </td><td>0   </td></tr>\n",
       "\t<tr><td>1   </td><td>2   </td><td>23.0</td><td>1   </td><td>5.3 </td><td> 8  </td><td>0   </td><td>1   </td><td>0   </td></tr>\n",
       "\t<tr><td>1   </td><td>1   </td><td>29.5</td><td>1   </td><td>3.9 </td><td>16  </td><td>0   </td><td>1   </td><td>1   </td></tr>\n",
       "\t<tr><td>1   </td><td>1   </td><td>32.8</td><td>1   </td><td>5.9 </td><td>16  </td><td>0   </td><td>3   </td><td>0   </td></tr>\n",
       "\t<tr><td>1   </td><td>2   </td><td>32.4</td><td>1   </td><td>5.1 </td><td> 8  </td><td>0   </td><td>1   </td><td>0   </td></tr>\n",
       "\t<tr><td>1   </td><td>1   </td><td>29.7</td><td>1   </td><td>5.8 </td><td> 8  </td><td>0   </td><td>2   </td><td>0   </td></tr>\n",
       "\t<tr><td>1   </td><td>1   </td><td>28.7</td><td>1   </td><td>6.0 </td><td> 8  </td><td>0   </td><td>1   </td><td>0   </td></tr>\n",
       "\t<tr><td>...</td><td>...</td><td>...</td><td>...</td><td>...</td><td>...</td><td>...</td><td>...</td><td>...</td></tr>\n",
       "\t<tr><td>1   </td><td>1   </td><td>35.4</td><td>4   </td><td>3.5 </td><td>15  </td><td>0   </td><td>2   </td><td>0   </td></tr>\n",
       "\t<tr><td>1   </td><td>2   </td><td>44.1</td><td>4   </td><td>4.0 </td><td>14  </td><td>1   </td><td>2   </td><td>1   </td></tr>\n",
       "\t<tr><td>0   </td><td>2   </td><td>27.1</td><td>4   </td><td>3.8 </td><td>15  </td><td>1   </td><td>1   </td><td>0   </td></tr>\n",
       "\t<tr><td>1   </td><td>1   </td><td>34.0</td><td>4   </td><td>4.8 </td><td>12  </td><td>0   </td><td>1   </td><td>0   </td></tr>\n",
       "\t<tr><td>1   </td><td>1   </td><td>48.2</td><td>4   </td><td>3.2 </td><td>14  </td><td>1   </td><td>4   </td><td>0   </td></tr>\n",
       "\t<tr><td>1   </td><td>2   </td><td>24.9</td><td>4   </td><td>4.1 </td><td>14  </td><td>1   </td><td>1   </td><td>0   </td></tr>\n",
       "\t<tr><td>1   </td><td>2   </td><td>36.5</td><td>4   </td><td>2.9 </td><td>12  </td><td>0   </td><td>1   </td><td>0   </td></tr>\n",
       "\t<tr><td>1   </td><td>2   </td><td>23.3</td><td>4   </td><td>3.1 </td><td>14  </td><td>1   </td><td>1   </td><td>0   </td></tr>\n",
       "\t<tr><td>1   </td><td>1   </td><td>47.2</td><td>4   </td><td>3.0 </td><td>12  </td><td>0   </td><td>1   </td><td>0   </td></tr>\n",
       "\t<tr><td>1   </td><td>2   </td><td>44.5</td><td>4   </td><td>3.1 </td><td>14  </td><td>1   </td><td>4   </td><td>0   </td></tr>\n",
       "\t<tr><td>1   </td><td>2   </td><td>25.9</td><td>4   </td><td>3.1 </td><td>14  </td><td>0   </td><td>2   </td><td>0   </td></tr>\n",
       "\t<tr><td>1   </td><td>1   </td><td>22.3</td><td>4   </td><td>3.0 </td><td>12  </td><td>0   </td><td>3   </td><td>0   </td></tr>\n",
       "\t<tr><td>1   </td><td>1   </td><td>19.9</td><td>4   </td><td>3.0 </td><td>13  </td><td>1   </td><td>1   </td><td>0   </td></tr>\n",
       "\t<tr><td>1   </td><td>1   </td><td>39.2</td><td>4   </td><td>4.5 </td><td>17  </td><td>1   </td><td>4   </td><td>1   </td></tr>\n",
       "\t<tr><td>1   </td><td>2   </td><td>21.5</td><td>4   </td><td>3.2 </td><td>14  </td><td>1   </td><td>1   </td><td>0   </td></tr>\n",
       "\t<tr><td>1   </td><td>1   </td><td>22.1</td><td>4   </td><td>3.8 </td><td>14  </td><td>1   </td><td>1   </td><td>0   </td></tr>\n",
       "\t<tr><td>1   </td><td>1   </td><td>48.2</td><td>4   </td><td>4.6 </td><td>13  </td><td>1   </td><td>1   </td><td>0   </td></tr>\n",
       "\t<tr><td>1   </td><td>2   </td><td>23.8</td><td>4   </td><td>4.6 </td><td>14  </td><td>1   </td><td>4   </td><td>0   </td></tr>\n",
       "\t<tr><td>1   </td><td>2   </td><td>36.3</td><td>4   </td><td>4.1 </td><td>16  </td><td>1   </td><td>2   </td><td>0   </td></tr>\n",
       "\t<tr><td>1   </td><td>1   </td><td>56.5</td><td>4   </td><td>5.8 </td><td>18  </td><td>0   </td><td>1   </td><td>0   </td></tr>\n",
       "\t<tr><td>1   </td><td>2   </td><td>36.4</td><td>4   </td><td>2.9 </td><td>12  </td><td>1   </td><td>2   </td><td>0   </td></tr>\n",
       "\t<tr><td>1   </td><td>2   </td><td>25.4</td><td>4   </td><td>3.4 </td><td>14  </td><td>1   </td><td>1   </td><td>0   </td></tr>\n",
       "\t<tr><td>1   </td><td>2   </td><td>28.2</td><td>4   </td><td>6.0 </td><td>18  </td><td>1   </td><td>4   </td><td>0   </td></tr>\n",
       "\t<tr><td>1   </td><td>1   </td><td>39.0</td><td>4   </td><td>3.9 </td><td>14  </td><td>1   </td><td>2   </td><td>0   </td></tr>\n",
       "\t<tr><td>0   </td><td>2   </td><td>42.0</td><td>4   </td><td>3.3 </td><td>13  </td><td>1   </td><td>1   </td><td>0   </td></tr>\n",
       "\t<tr><td>1   </td><td>1   </td><td>47.1</td><td>4   </td><td>4.2 </td><td>16  </td><td>1   </td><td>1   </td><td>0   </td></tr>\n",
       "\t<tr><td>0   </td><td>1   </td><td>47.5</td><td>1   </td><td>5.2 </td><td>16  </td><td>0   </td><td>3   </td><td>0   </td></tr>\n",
       "\t<tr><td>1   </td><td>1   </td><td>45.4</td><td>1   </td><td>5.7 </td><td>12  </td><td>0   </td><td>3   </td><td>0   </td></tr>\n",
       "\t<tr><td>1   </td><td>1   </td><td>38.4</td><td>1   </td><td>1.8 </td><td>18  </td><td>0   </td><td>1   </td><td>0   </td></tr>\n",
       "\t<tr><td>1   </td><td>1   </td><td>47.8</td><td>1   </td><td>6.0 </td><td>12  </td><td>0   </td><td>4   </td><td>0   </td></tr>\n",
       "</tbody>\n",
       "</table>\n"
      ],
      "text/latex": [
       "\\begin{tabular}{r|lllllllll}\n",
       " male & race & age & state & time.served & max.sentence & multiple.offenses & crime & violator\\\\\n",
       "\\hline\n",
       "\t 1    & 1    & 33.2 & 1    & 5.5  & 18   & 0    & 4    & 0   \\\\\n",
       "\t 0    & 1    & 39.7 & 1    & 5.4  & 12   & 0    & 3    & 0   \\\\\n",
       "\t 1    & 2    & 29.5 & 1    & 5.6  & 12   & 0    & 3    & 0   \\\\\n",
       "\t 1    & 1    & 22.4 & 1    & 5.7  & 18   & 0    & 1    & 0   \\\\\n",
       "\t 1    & 2    & 21.6 & 1    & 5.4  & 12   & 0    & 1    & 0   \\\\\n",
       "\t 1    & 2    & 46.7 & 1    & 6.0  & 18   & 0    & 4    & 0   \\\\\n",
       "\t 1    & 1    & 31.0 & 1    & 6.0  & 18   & 0    & 3    & 0   \\\\\n",
       "\t 0    & 1    & 24.6 & 1    & 4.8  & 12   & 0    & 1    & 0   \\\\\n",
       "\t 0    & 1    & 32.6 & 1    & 4.5  & 13   & 0    & 3    & 0   \\\\\n",
       "\t 1    & 2    & 29.1 & 1    & 4.7  & 12   & 0    & 2    & 0   \\\\\n",
       "\t 0    & 2    & 28.4 & 1    & 4.5  & 12   & 1    & 1    & 0   \\\\\n",
       "\t 1    & 1    & 20.5 & 1    & 5.9  & 12   & 0    & 1    & 0   \\\\\n",
       "\t 1    & 1    & 30.1 & 1    & 5.3  & 16   & 0    & 3    & 0   \\\\\n",
       "\t 1    & 1    & 37.8 & 1    & 5.3  &  8   & 0    & 3    & 0   \\\\\n",
       "\t 1    & 1    & 41.7 & 1    & 5.5  &  8   & 0    & 3    & 0   \\\\\n",
       "\t 1    & 2    & 43.5 & 1    & 5.2  &  8   & 0    & 1    & 0   \\\\\n",
       "\t 1    & 1    & 42.3 & 1    & 4.8  & 16   & 0    & 3    & 0   \\\\\n",
       "\t 1    & 1    & 21.3 & 1    & 5.1  &  8   & 0    & 1    & 0   \\\\\n",
       "\t 1    & 2    & 24.5 & 1    & 6.0  & 16   & 0    & 3    & 0   \\\\\n",
       "\t 1    & 1    & 42.3 & 1    & 5.8  & 16   & 0    & 1    & 0   \\\\\n",
       "\t 1    & 1    & 31.6 & 1    & 4.9  &  8   & 0    & 1    & 0   \\\\\n",
       "\t 1    & 2    & 35.4 & 1    & 5.3  &  8   & 0    & 3    & 0   \\\\\n",
       "\t 1    & 1    & 41.9 & 1    & 5.1  & 16   & 0    & 3    & 0   \\\\\n",
       "\t 1    & 1    & 38.9 & 1    & 5.2  & 16   & 0    & 3    & 0   \\\\\n",
       "\t 1    & 2    & 23.0 & 1    & 5.3  &  8   & 0    & 1    & 0   \\\\\n",
       "\t 1    & 1    & 29.5 & 1    & 3.9  & 16   & 0    & 1    & 1   \\\\\n",
       "\t 1    & 1    & 32.8 & 1    & 5.9  & 16   & 0    & 3    & 0   \\\\\n",
       "\t 1    & 2    & 32.4 & 1    & 5.1  &  8   & 0    & 1    & 0   \\\\\n",
       "\t 1    & 1    & 29.7 & 1    & 5.8  &  8   & 0    & 2    & 0   \\\\\n",
       "\t 1    & 1    & 28.7 & 1    & 6.0  &  8   & 0    & 1    & 0   \\\\\n",
       "\t ... & ... & ... & ... & ... & ... & ... & ... & ...\\\\\n",
       "\t 1    & 1    & 35.4 & 4    & 3.5  & 15   & 0    & 2    & 0   \\\\\n",
       "\t 1    & 2    & 44.1 & 4    & 4.0  & 14   & 1    & 2    & 1   \\\\\n",
       "\t 0    & 2    & 27.1 & 4    & 3.8  & 15   & 1    & 1    & 0   \\\\\n",
       "\t 1    & 1    & 34.0 & 4    & 4.8  & 12   & 0    & 1    & 0   \\\\\n",
       "\t 1    & 1    & 48.2 & 4    & 3.2  & 14   & 1    & 4    & 0   \\\\\n",
       "\t 1    & 2    & 24.9 & 4    & 4.1  & 14   & 1    & 1    & 0   \\\\\n",
       "\t 1    & 2    & 36.5 & 4    & 2.9  & 12   & 0    & 1    & 0   \\\\\n",
       "\t 1    & 2    & 23.3 & 4    & 3.1  & 14   & 1    & 1    & 0   \\\\\n",
       "\t 1    & 1    & 47.2 & 4    & 3.0  & 12   & 0    & 1    & 0   \\\\\n",
       "\t 1    & 2    & 44.5 & 4    & 3.1  & 14   & 1    & 4    & 0   \\\\\n",
       "\t 1    & 2    & 25.9 & 4    & 3.1  & 14   & 0    & 2    & 0   \\\\\n",
       "\t 1    & 1    & 22.3 & 4    & 3.0  & 12   & 0    & 3    & 0   \\\\\n",
       "\t 1    & 1    & 19.9 & 4    & 3.0  & 13   & 1    & 1    & 0   \\\\\n",
       "\t 1    & 1    & 39.2 & 4    & 4.5  & 17   & 1    & 4    & 1   \\\\\n",
       "\t 1    & 2    & 21.5 & 4    & 3.2  & 14   & 1    & 1    & 0   \\\\\n",
       "\t 1    & 1    & 22.1 & 4    & 3.8  & 14   & 1    & 1    & 0   \\\\\n",
       "\t 1    & 1    & 48.2 & 4    & 4.6  & 13   & 1    & 1    & 0   \\\\\n",
       "\t 1    & 2    & 23.8 & 4    & 4.6  & 14   & 1    & 4    & 0   \\\\\n",
       "\t 1    & 2    & 36.3 & 4    & 4.1  & 16   & 1    & 2    & 0   \\\\\n",
       "\t 1    & 1    & 56.5 & 4    & 5.8  & 18   & 0    & 1    & 0   \\\\\n",
       "\t 1    & 2    & 36.4 & 4    & 2.9  & 12   & 1    & 2    & 0   \\\\\n",
       "\t 1    & 2    & 25.4 & 4    & 3.4  & 14   & 1    & 1    & 0   \\\\\n",
       "\t 1    & 2    & 28.2 & 4    & 6.0  & 18   & 1    & 4    & 0   \\\\\n",
       "\t 1    & 1    & 39.0 & 4    & 3.9  & 14   & 1    & 2    & 0   \\\\\n",
       "\t 0    & 2    & 42.0 & 4    & 3.3  & 13   & 1    & 1    & 0   \\\\\n",
       "\t 1    & 1    & 47.1 & 4    & 4.2  & 16   & 1    & 1    & 0   \\\\\n",
       "\t 0    & 1    & 47.5 & 1    & 5.2  & 16   & 0    & 3    & 0   \\\\\n",
       "\t 1    & 1    & 45.4 & 1    & 5.7  & 12   & 0    & 3    & 0   \\\\\n",
       "\t 1    & 1    & 38.4 & 1    & 1.8  & 18   & 0    & 1    & 0   \\\\\n",
       "\t 1    & 1    & 47.8 & 1    & 6.0  & 12   & 0    & 4    & 0   \\\\\n",
       "\\end{tabular}\n"
      ],
      "text/markdown": [
       "\n",
       "male | race | age | state | time.served | max.sentence | multiple.offenses | crime | violator | \n",
       "|---|---|---|---|---|---|---|---|---|---|---|---|---|---|---|---|---|---|---|---|---|---|---|---|---|---|---|---|---|---|---|---|---|---|---|---|---|---|---|---|---|---|---|---|---|---|---|---|---|---|---|---|---|---|---|---|---|---|---|---|---|\n",
       "| 1    | 1    | 33.2 | 1    | 5.5  | 18   | 0    | 4    | 0    | \n",
       "| 0    | 1    | 39.7 | 1    | 5.4  | 12   | 0    | 3    | 0    | \n",
       "| 1    | 2    | 29.5 | 1    | 5.6  | 12   | 0    | 3    | 0    | \n",
       "| 1    | 1    | 22.4 | 1    | 5.7  | 18   | 0    | 1    | 0    | \n",
       "| 1    | 2    | 21.6 | 1    | 5.4  | 12   | 0    | 1    | 0    | \n",
       "| 1    | 2    | 46.7 | 1    | 6.0  | 18   | 0    | 4    | 0    | \n",
       "| 1    | 1    | 31.0 | 1    | 6.0  | 18   | 0    | 3    | 0    | \n",
       "| 0    | 1    | 24.6 | 1    | 4.8  | 12   | 0    | 1    | 0    | \n",
       "| 0    | 1    | 32.6 | 1    | 4.5  | 13   | 0    | 3    | 0    | \n",
       "| 1    | 2    | 29.1 | 1    | 4.7  | 12   | 0    | 2    | 0    | \n",
       "| 0    | 2    | 28.4 | 1    | 4.5  | 12   | 1    | 1    | 0    | \n",
       "| 1    | 1    | 20.5 | 1    | 5.9  | 12   | 0    | 1    | 0    | \n",
       "| 1    | 1    | 30.1 | 1    | 5.3  | 16   | 0    | 3    | 0    | \n",
       "| 1    | 1    | 37.8 | 1    | 5.3  |  8   | 0    | 3    | 0    | \n",
       "| 1    | 1    | 41.7 | 1    | 5.5  |  8   | 0    | 3    | 0    | \n",
       "| 1    | 2    | 43.5 | 1    | 5.2  |  8   | 0    | 1    | 0    | \n",
       "| 1    | 1    | 42.3 | 1    | 4.8  | 16   | 0    | 3    | 0    | \n",
       "| 1    | 1    | 21.3 | 1    | 5.1  |  8   | 0    | 1    | 0    | \n",
       "| 1    | 2    | 24.5 | 1    | 6.0  | 16   | 0    | 3    | 0    | \n",
       "| 1    | 1    | 42.3 | 1    | 5.8  | 16   | 0    | 1    | 0    | \n",
       "| 1    | 1    | 31.6 | 1    | 4.9  |  8   | 0    | 1    | 0    | \n",
       "| 1    | 2    | 35.4 | 1    | 5.3  |  8   | 0    | 3    | 0    | \n",
       "| 1    | 1    | 41.9 | 1    | 5.1  | 16   | 0    | 3    | 0    | \n",
       "| 1    | 1    | 38.9 | 1    | 5.2  | 16   | 0    | 3    | 0    | \n",
       "| 1    | 2    | 23.0 | 1    | 5.3  |  8   | 0    | 1    | 0    | \n",
       "| 1    | 1    | 29.5 | 1    | 3.9  | 16   | 0    | 1    | 1    | \n",
       "| 1    | 1    | 32.8 | 1    | 5.9  | 16   | 0    | 3    | 0    | \n",
       "| 1    | 2    | 32.4 | 1    | 5.1  |  8   | 0    | 1    | 0    | \n",
       "| 1    | 1    | 29.7 | 1    | 5.8  |  8   | 0    | 2    | 0    | \n",
       "| 1    | 1    | 28.7 | 1    | 6.0  |  8   | 0    | 1    | 0    | \n",
       "| ... | ... | ... | ... | ... | ... | ... | ... | ... | \n",
       "| 1    | 1    | 35.4 | 4    | 3.5  | 15   | 0    | 2    | 0    | \n",
       "| 1    | 2    | 44.1 | 4    | 4.0  | 14   | 1    | 2    | 1    | \n",
       "| 0    | 2    | 27.1 | 4    | 3.8  | 15   | 1    | 1    | 0    | \n",
       "| 1    | 1    | 34.0 | 4    | 4.8  | 12   | 0    | 1    | 0    | \n",
       "| 1    | 1    | 48.2 | 4    | 3.2  | 14   | 1    | 4    | 0    | \n",
       "| 1    | 2    | 24.9 | 4    | 4.1  | 14   | 1    | 1    | 0    | \n",
       "| 1    | 2    | 36.5 | 4    | 2.9  | 12   | 0    | 1    | 0    | \n",
       "| 1    | 2    | 23.3 | 4    | 3.1  | 14   | 1    | 1    | 0    | \n",
       "| 1    | 1    | 47.2 | 4    | 3.0  | 12   | 0    | 1    | 0    | \n",
       "| 1    | 2    | 44.5 | 4    | 3.1  | 14   | 1    | 4    | 0    | \n",
       "| 1    | 2    | 25.9 | 4    | 3.1  | 14   | 0    | 2    | 0    | \n",
       "| 1    | 1    | 22.3 | 4    | 3.0  | 12   | 0    | 3    | 0    | \n",
       "| 1    | 1    | 19.9 | 4    | 3.0  | 13   | 1    | 1    | 0    | \n",
       "| 1    | 1    | 39.2 | 4    | 4.5  | 17   | 1    | 4    | 1    | \n",
       "| 1    | 2    | 21.5 | 4    | 3.2  | 14   | 1    | 1    | 0    | \n",
       "| 1    | 1    | 22.1 | 4    | 3.8  | 14   | 1    | 1    | 0    | \n",
       "| 1    | 1    | 48.2 | 4    | 4.6  | 13   | 1    | 1    | 0    | \n",
       "| 1    | 2    | 23.8 | 4    | 4.6  | 14   | 1    | 4    | 0    | \n",
       "| 1    | 2    | 36.3 | 4    | 4.1  | 16   | 1    | 2    | 0    | \n",
       "| 1    | 1    | 56.5 | 4    | 5.8  | 18   | 0    | 1    | 0    | \n",
       "| 1    | 2    | 36.4 | 4    | 2.9  | 12   | 1    | 2    | 0    | \n",
       "| 1    | 2    | 25.4 | 4    | 3.4  | 14   | 1    | 1    | 0    | \n",
       "| 1    | 2    | 28.2 | 4    | 6.0  | 18   | 1    | 4    | 0    | \n",
       "| 1    | 1    | 39.0 | 4    | 3.9  | 14   | 1    | 2    | 0    | \n",
       "| 0    | 2    | 42.0 | 4    | 3.3  | 13   | 1    | 1    | 0    | \n",
       "| 1    | 1    | 47.1 | 4    | 4.2  | 16   | 1    | 1    | 0    | \n",
       "| 0    | 1    | 47.5 | 1    | 5.2  | 16   | 0    | 3    | 0    | \n",
       "| 1    | 1    | 45.4 | 1    | 5.7  | 12   | 0    | 3    | 0    | \n",
       "| 1    | 1    | 38.4 | 1    | 1.8  | 18   | 0    | 1    | 0    | \n",
       "| 1    | 1    | 47.8 | 1    | 6.0  | 12   | 0    | 4    | 0    | \n",
       "\n",
       "\n"
      ],
      "text/plain": [
       "    male race age  state time.served max.sentence multiple.offenses crime\n",
       "1   1    1    33.2 1     5.5         18           0                 4    \n",
       "2   0    1    39.7 1     5.4         12           0                 3    \n",
       "3   1    2    29.5 1     5.6         12           0                 3    \n",
       "4   1    1    22.4 1     5.7         18           0                 1    \n",
       "5   1    2    21.6 1     5.4         12           0                 1    \n",
       "6   1    2    46.7 1     6.0         18           0                 4    \n",
       "7   1    1    31.0 1     6.0         18           0                 3    \n",
       "8   0    1    24.6 1     4.8         12           0                 1    \n",
       "9   0    1    32.6 1     4.5         13           0                 3    \n",
       "10  1    2    29.1 1     4.7         12           0                 2    \n",
       "11  0    2    28.4 1     4.5         12           1                 1    \n",
       "12  1    1    20.5 1     5.9         12           0                 1    \n",
       "13  1    1    30.1 1     5.3         16           0                 3    \n",
       "14  1    1    37.8 1     5.3          8           0                 3    \n",
       "15  1    1    41.7 1     5.5          8           0                 3    \n",
       "16  1    2    43.5 1     5.2          8           0                 1    \n",
       "17  1    1    42.3 1     4.8         16           0                 3    \n",
       "18  1    1    21.3 1     5.1          8           0                 1    \n",
       "19  1    2    24.5 1     6.0         16           0                 3    \n",
       "20  1    1    42.3 1     5.8         16           0                 1    \n",
       "21  1    1    31.6 1     4.9          8           0                 1    \n",
       "22  1    2    35.4 1     5.3          8           0                 3    \n",
       "23  1    1    41.9 1     5.1         16           0                 3    \n",
       "24  1    1    38.9 1     5.2         16           0                 3    \n",
       "25  1    2    23.0 1     5.3          8           0                 1    \n",
       "26  1    1    29.5 1     3.9         16           0                 1    \n",
       "27  1    1    32.8 1     5.9         16           0                 3    \n",
       "28  1    2    32.4 1     5.1          8           0                 1    \n",
       "29  1    1    29.7 1     5.8          8           0                 2    \n",
       "30  1    1    28.7 1     6.0          8           0                 1    \n",
       "... ...  ...  ...  ...   ...         ...          ...               ...  \n",
       "646 1    1    35.4 4     3.5         15           0                 2    \n",
       "647 1    2    44.1 4     4.0         14           1                 2    \n",
       "648 0    2    27.1 4     3.8         15           1                 1    \n",
       "649 1    1    34.0 4     4.8         12           0                 1    \n",
       "650 1    1    48.2 4     3.2         14           1                 4    \n",
       "651 1    2    24.9 4     4.1         14           1                 1    \n",
       "652 1    2    36.5 4     2.9         12           0                 1    \n",
       "653 1    2    23.3 4     3.1         14           1                 1    \n",
       "654 1    1    47.2 4     3.0         12           0                 1    \n",
       "655 1    2    44.5 4     3.1         14           1                 4    \n",
       "656 1    2    25.9 4     3.1         14           0                 2    \n",
       "657 1    1    22.3 4     3.0         12           0                 3    \n",
       "658 1    1    19.9 4     3.0         13           1                 1    \n",
       "659 1    1    39.2 4     4.5         17           1                 4    \n",
       "660 1    2    21.5 4     3.2         14           1                 1    \n",
       "661 1    1    22.1 4     3.8         14           1                 1    \n",
       "662 1    1    48.2 4     4.6         13           1                 1    \n",
       "663 1    2    23.8 4     4.6         14           1                 4    \n",
       "664 1    2    36.3 4     4.1         16           1                 2    \n",
       "665 1    1    56.5 4     5.8         18           0                 1    \n",
       "666 1    2    36.4 4     2.9         12           1                 2    \n",
       "667 1    2    25.4 4     3.4         14           1                 1    \n",
       "668 1    2    28.2 4     6.0         18           1                 4    \n",
       "669 1    1    39.0 4     3.9         14           1                 2    \n",
       "670 0    2    42.0 4     3.3         13           1                 1    \n",
       "671 1    1    47.1 4     4.2         16           1                 1    \n",
       "672 0    1    47.5 1     5.2         16           0                 3    \n",
       "673 1    1    45.4 1     5.7         12           0                 3    \n",
       "674 1    1    38.4 1     1.8         18           0                 1    \n",
       "675 1    1    47.8 1     6.0         12           0                 4    \n",
       "    violator\n",
       "1   0       \n",
       "2   0       \n",
       "3   0       \n",
       "4   0       \n",
       "5   0       \n",
       "6   0       \n",
       "7   0       \n",
       "8   0       \n",
       "9   0       \n",
       "10  0       \n",
       "11  0       \n",
       "12  0       \n",
       "13  0       \n",
       "14  0       \n",
       "15  0       \n",
       "16  0       \n",
       "17  0       \n",
       "18  0       \n",
       "19  0       \n",
       "20  0       \n",
       "21  0       \n",
       "22  0       \n",
       "23  0       \n",
       "24  0       \n",
       "25  0       \n",
       "26  1       \n",
       "27  0       \n",
       "28  0       \n",
       "29  0       \n",
       "30  0       \n",
       "... ...     \n",
       "646 0       \n",
       "647 1       \n",
       "648 0       \n",
       "649 0       \n",
       "650 0       \n",
       "651 0       \n",
       "652 0       \n",
       "653 0       \n",
       "654 0       \n",
       "655 0       \n",
       "656 0       \n",
       "657 0       \n",
       "658 0       \n",
       "659 1       \n",
       "660 0       \n",
       "661 0       \n",
       "662 0       \n",
       "663 0       \n",
       "664 0       \n",
       "665 0       \n",
       "666 0       \n",
       "667 0       \n",
       "668 0       \n",
       "669 0       \n",
       "670 0       \n",
       "671 0       \n",
       "672 0       \n",
       "673 0       \n",
       "674 0       \n",
       "675 0       "
      ]
     },
     "metadata": {},
     "output_type": "display_data"
    }
   ],
   "source": [
    "parol"
   ]
  },
  {
   "cell_type": "code",
   "execution_count": 25,
   "metadata": {
    "collapsed": false
   },
   "outputs": [
    {
     "data": {
      "text/plain": [
       "\n",
       "FALSE  TRUE \n",
       "  661    14 "
      ]
     },
     "metadata": {},
     "output_type": "display_data"
    }
   ],
   "source": [
    "table(parol $male==0 & parol $violator==1)"
   ]
  },
  {
   "cell_type": "code",
   "execution_count": 29,
   "metadata": {
    "collapsed": false
   },
   "outputs": [
    {
     "data": {
      "text/plain": [
       "       \n",
       "        FALSE TRUE\n",
       "  FALSE   282  273\n",
       "  TRUE     78   42"
      ]
     },
     "metadata": {},
     "output_type": "display_data"
    }
   ],
   "source": [
    "table(parol$state==2,parol$crime==1)"
   ]
  },
  {
   "cell_type": "code",
   "execution_count": 34,
   "metadata": {
    "collapsed": false
   },
   "outputs": [],
   "source": [
    "library(ggplot2)"
   ]
  },
  {
   "cell_type": "code",
   "execution_count": 44,
   "metadata": {
    "collapsed": false
   },
   "outputs": [
    {
     "data": {},
     "metadata": {},
     "output_type": "display_data"
    },
    {
     "data": {
      "image/png": "[encoded data removed]",
      "text/plain": [
       "plot without title"
      ]
     },
     "metadata": {},
     "output_type": "display_data"
    }
   ],
   "source": [
    "ggplot(data = parol, aes(x = age)) + geom_histogram(binwidth=5,colour=\"blue\")"
   ]
  },
  {
   "cell_type": "code",
   "execution_count": 46,
   "metadata": {
    "collapsed": false
   },
   "outputs": [
    {
     "data": {},
     "metadata": {},
     "output_type": "display_data"
    },
    {
     "data": {
      "image/png": "[encoded data removed]",
      "text/plain": [
       "plot without title"
      ]
     },
     "metadata": {},
     "output_type": "display_data"
    }
   ],
   "source": [
    "ggplot(data = parol, aes(x = age)) + geom_histogram(binwidth = 5) + facet_grid(male ~ .)"
   ]
  },
  {
   "cell_type": "code",
   "execution_count": 49,
   "metadata": {
    "collapsed": false
   },
   "outputs": [
    {
     "data": {},
     "metadata": {},
     "output_type": "display_data"
    },
    {
     "data": {
      "image/png": "[encoded data removed]",
      "text/plain": [
       "plot without title"
      ]
     },
     "metadata": {},
     "output_type": "display_data"
    }
   ],
   "source": [
    "ggplot(data = parol, aes(x = age)) + geom_histogram(binwidth = 5) + facet_grid(~male)"
   ]
  },
  {
   "cell_type": "code",
   "execution_count": 51,
   "metadata": {
    "collapsed": false
   },
   "outputs": [
    {
     "data": {},
     "metadata": {},
     "output_type": "display_data"
    },
    {
     "data": {
      "image/png": "[encoded data removed]",
      "text/plain": [
       "plot without title"
      ]
     },
     "metadata": {},
     "output_type": "display_data"
    }
   ],
   "source": [
    "ggplot(data = parol, aes(x = age, fill = male)) + geom_histogram(binwidth = 5)"
   ]
  },
  {
   "cell_type": "code",
   "execution_count": 52,
   "metadata": {
    "collapsed": true
   },
   "outputs": [],
   "source": [
    "colorPalette = c(\"#000000\", \"#E69F00\", \"#56B4E9\", \"#009E73\", \"#F0E442\", \"#0072B2\", \"#D55E00\", \"#CC79A7\")"
   ]
  },
  {
   "cell_type": "code",
   "execution_count": 54,
   "metadata": {
    "collapsed": false
   },
   "outputs": [
    {
     "data": {},
     "metadata": {},
     "output_type": "display_data"
    },
    {
     "data": {
      "image/png": "[encoded data removed]",
      "text/plain": [
       "plot without title"
      ]
     },
     "metadata": {},
     "output_type": "display_data"
    }
   ],
   "source": [
    "ggplot(data = parol, aes(x = age, fill = male)) + geom_histogram(binwidth = 5) + scale_fill_manual(values=colorPalette)"
   ]
  },
  {
   "cell_type": "code",
   "execution_count": 55,
   "metadata": {
    "collapsed": false
   },
   "outputs": [
    {
     "data": {},
     "metadata": {},
     "output_type": "display_data"
    },
    {
     "data": {
      "image/png": "[encoded data removed]",
      "text/plain": [
       "plot without title"
      ]
     },
     "metadata": {},
     "output_type": "display_data"
    }
   ],
   "source": [
    "ggplot(data = parol, aes(x = age, fill = male)) + geom_histogram(binwidth = 5,position=\"identity\",alpha=0.5) + scale_fill_manual(values=colorPalette)"
   ]
  },
  {
   "cell_type": "code",
   "execution_count": 61,
   "metadata": {
    "collapsed": false
   },
   "outputs": [
    {
     "data": {},
     "metadata": {},
     "output_type": "display_data"
    },
    {
     "data": {
      "image/png": "[encoded data removed]",
      "text/plain": [
       "plot without title"
      ]
     },
     "metadata": {},
     "output_type": "display_data"
    }
   ],
   "source": [
    "ggplot(data=parol,aes(x=time.served))+geom_histogram(binwidth=1)"
   ]
  },
  {
   "cell_type": "code",
   "execution_count": 65,
   "metadata": {
    "collapsed": false
   },
   "outputs": [
    {
     "data": {},
     "metadata": {},
     "output_type": "display_data"
    },
    {
     "data": {
      "image/png": "[encoded data removed]",
      "text/plain": [
       "plot without title"
      ]
     },
     "metadata": {},
     "output_type": "display_data"
    }
   ],
   "source": [
    "ggplot(data=parol,aes(x=time.served))+geom_histogram(binwidth=1)+facet_grid(~crime)"
   ]
  },
  {
   "cell_type": "code",
   "execution_count": 72,
   "metadata": {
    "collapsed": false
   },
   "outputs": [
    {
     "data": {},
     "metadata": {},
     "output_type": "display_data"
    },
    {
     "data": {
      "image/png": "[encoded data removed]",
      "text/plain": [
       "plot without title"
      ]
     },
     "metadata": {},
     "output_type": "display_data"
    }
   ],
   "source": [
    "ggplot(data=parol, aes(x=time.served, fill=crime))+geom_histogram(binwidth=1,position=\"identity\")"
   ]
  }
 ],
 "metadata": {
  "kernelspec": {
   "display_name": "R 3.3",
   "language": "R",
   "name": "ir33"
  },
  "language_info": {
   "codemirror_mode": "r",
   "file_extension": ".r",
   "mimetype": "text/x-r-source",
   "name": "R",
   "pygments_lexer": "r",
   "version": "3.3.3"
  }
 },
 "nbformat": 4,
 "nbformat_minor": 2
}
